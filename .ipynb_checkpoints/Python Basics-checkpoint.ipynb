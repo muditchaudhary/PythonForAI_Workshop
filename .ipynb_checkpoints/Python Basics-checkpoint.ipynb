{
 "cells": [
  {
   "cell_type": "markdown",
   "id": "chicken-defense",
   "metadata": {},
   "source": [
    "<img src=\"https://ai4future.keep.edu.hk/wp-content/uploads/2020/02/CUHK_AI_Logo_Update_Web.png\" width=\"200\" align=\"right\"> <br><br><br><br>\n",
    "<h1><span style=\"color:#338DFF\"> AI With Python Workshop </span></h1>\n",
    "\n",
    "### Welcome to the AI with Python Workshop by CUHK-Jockey Club AI for the Future Project\n",
    "\n",
    "This notebook complements the powerpoint slides during the workshop and will be used to do the coding exercises \n",
    "\n",
    "-----------"
   ]
  },
  {
   "cell_type": "markdown",
   "id": "regulated-scratch",
   "metadata": {},
   "source": [
    "## Say Hello to Python\n",
    "\n",
    "Our first coding exercise. We print \"Hello World\" on our computer screen.  \n",
    "\n",
    "In the coding cell below type ```print(\"Hello World\")``` and press the **Run** button"
   ]
  },
  {
   "cell_type": "code",
   "execution_count": 1,
   "id": "falling-carolina",
   "metadata": {},
   "outputs": [],
   "source": [
    "# Write code below"
   ]
  },
  {
   "cell_type": "markdown",
   "id": "celtic-aggregate",
   "metadata": {},
   "source": [
    "## Variables\n",
    "\n",
    "Variables are containers stores values.\n",
    "\n",
    "E.g., To initialize variables, \n",
    "* ``my_string_variable = \"Welcome to the workshop\"``  \n",
    "\n",
    "* ``my_number_variable = 1702``  \n",
    "\n",
    "* ``my_decimal_variable = 3.4``\n",
    "\n",
    "----"
   ]
  },
  {
   "attachments": {},
   "cell_type": "markdown",
   "id": "final-spoke",
   "metadata": {},
   "source": [
    "### Let's play with variables\n",
    "\n",
    "**Task 1:** Create a variable called ``name`` to store your name. Use print statement to print it on screen.\n",
    "\n",
    "Hint: Use ``print()`` function to print the variable.\n",
    "\n",
    "Complete the task in the code cell below."
   ]
  },
  {
   "cell_type": "code",
   "execution_count": 2,
   "id": "entitled-capital",
   "metadata": {},
   "outputs": [],
   "source": [
    "# Write code below"
   ]
  },
  {
   "attachments": {},
   "cell_type": "markdown",
   "id": "filled-letters",
   "metadata": {},
   "source": [
    "**Task 2:** Create 3 variables x, y, and z. Store their values as follows:\u000b",
    "x = 3; y = 7; z = x + y. Print the value of z and verify if it is correct.\n",
    "\n",
    "Complete the task in the code cell below."
   ]
  },
  {
   "cell_type": "code",
   "execution_count": 3,
   "id": "integral-tenant",
   "metadata": {},
   "outputs": [],
   "source": [
    "# Write code below"
   ]
  },
  {
   "attachments": {},
   "cell_type": "markdown",
   "id": "coated-projection",
   "metadata": {},
   "source": [
    "## Data Types\n",
    "The variables can hold different types of data called Data Types. \n",
    "\n",
    "The most common ones are:\n",
    "* **Integers:** Numbers (E.g., 1, 400, -999, etc.)\n",
    "* **Float:** Decimals (E.g., 3.67, -4.7, 9.42, etc.)\n",
    "* **String:** Collection of characters (E.g., “Hello”, “Good morning”, “Amazing”,etc.)\n",
    "* **Boolean:** True and False!\n",
    "\n",
    "**Bonus:** To check the data type of any variable you can use ``type()`` function. E.g., for a variable named ``my_variable``, use ``type(my_variable)``\n",
    "\n",
    "---"
   ]
  },
  {
   "cell_type": "code",
   "execution_count": 5,
   "id": "correct-mainland",
   "metadata": {},
   "outputs": [],
   "source": [
    "# Try Bonus below"
   ]
  },
  {
   "attachments": {},
   "cell_type": "markdown",
   "id": "employed-berry",
   "metadata": {},
   "source": [
    "## Relational Operators\n",
    "\n",
    "Relational are used for comparing values.\n",
    "\n",
    "Commonly used operators are:\n",
    "* ``==`` (equal to)\n",
    "* ``<`` (Less than)\n",
    "* ``>`` (Greater than)\n",
    "* ``>=`` (Greater than or equal to)\n",
    "* ``<=`` (Less than and equal to)\n",
    "* ``!=`` (Not equal to)\n",
    "\n",
    "Let's try some of these relational operators\n",
    "\n",
    "----"
   ]
  },
  {
   "cell_type": "code",
   "execution_count": 15,
   "id": "under-aberdeen",
   "metadata": {},
   "outputs": [
    {
     "name": "stdout",
     "output_type": "stream",
     "text": [
      "Is number_1 is equal to number_2?  True\n",
      "Is number_1 is less than number_2?  False\n",
      "Is number_1 is less than equal to number_2?  True\n",
      "Is number_1 is greater than number_3?  False\n",
      "Is string_1 is equal to string_2?  False\n"
     ]
    }
   ],
   "source": [
    "# Run this code\n",
    "number_1 = 23\n",
    "number_2 = 23\n",
    "number_3 = 30\n",
    "\n",
    "string_1 = \"Hello\"\n",
    "string_2 = \"hello\"\n",
    "\n",
    "# == Equal to operator\n",
    "print(\"Is number_1 is equal to number_2? \", number_1 == number_2)\n",
    "\n",
    "# < Less than operator\n",
    "print(\"Is number_1 is less than number_2? \", number_1 < number_2)\n",
    "\n",
    "# <= Less than equal to operator\n",
    "print(\"Is number_1 is less than equal to number_2? \", number_1 <= number_2)\n",
    "\n",
    "# > Greater than operator\n",
    "print(\"Is number_1 is greater than number_3? \", number_1 > number_2)\n",
    "\n",
    "# == Equal to operator for string\n",
    "print(\"Is string_1 is equal to string_2? \", string_1 == string_2)"
   ]
  },
  {
   "cell_type": "markdown",
   "id": "defined-reform",
   "metadata": {},
   "source": [
    "**Task 1:** Print if number_3 is greater than number_1"
   ]
  },
  {
   "cell_type": "code",
   "execution_count": 16,
   "id": "frozen-tobago",
   "metadata": {},
   "outputs": [],
   "source": [
    "# Complete the code below\n",
    "\n",
    "print(\"Is number_3 greater than number 1?\")\n",
    "\n",
    "print(number_3 \"\"\"Replace this with the correct operator\"\"\" number_1)"
   ]
  },
  {
   "cell_type": "markdown",
   "id": "magnetic-enterprise",
   "metadata": {},
   "source": [
    "## Conditional Statements\n",
    "\n",
    "Conditional Statements control the flow of program based on conditions.\n",
    "\n",
    "We will use ``if-else`` statements.\n",
    "\n",
    "The syntax of ``if-else`` statements is:\n",
    "\n",
    "``\n",
    "if (Condition 1):\n",
    "    Then-statement_1\n",
    "    Then-statement_2\n",
    "    .\n",
    "    .\n",
    "elif (Condition 2):\n",
    "    Then-statement_3\n",
    "    Then-statement_4\n",
    "    .\n",
    "    .\n",
    "else (Condition 3):\n",
    "    Then-statement_5\n",
    "    Then-statement_6\n",
    "    .\n",
    "    .\n",
    "``\n",
    "\n",
    "**Note**: Python is sensitive to indentation. Then-statements under each if, elif, else should have the same indentation"
   ]
  },
  {
   "cell_type": "markdown",
   "id": "juvenile-mining",
   "metadata": {},
   "source": [
    "**Task 1:** Run the code below to understand the ``if-else`` statement syntax"
   ]
  },
  {
   "cell_type": "code",
   "execution_count": 24,
   "id": "multiple-stereo",
   "metadata": {},
   "outputs": [
    {
     "name": "stdout",
     "output_type": "stream",
     "text": [
      "Number 1 is greater than Number 2\n",
      "Yayyy!\n",
      "Interesting!\n"
     ]
    }
   ],
   "source": [
    "# Run this code\n",
    "# You can try changing the values of numbers and modify the code to play with it\n",
    "\n",
    "number_1 = 5\n",
    "number_2 = 4\n",
    "\n",
    "if (number_1 > number_2):\n",
    "    print(\"Number 1 is greater than Number 2\")\n",
    "    print(\"Yayyy!\")\n",
    "    \n",
    "elif (number_1 == number_2):\n",
    "    print(\"Number 1 is equal to Number 2\")\n",
    "\n",
    "else:\n",
    "    print(\"Number 1 is less than Number 2\")\n",
    "    print(\"Interesting!\")"
   ]
  },
  {
   "cell_type": "markdown",
   "id": "strategic-connection",
   "metadata": {},
   "source": [
    "**Task 2:** Use Python to code the real-life example given in the workshop slide"
   ]
  },
  {
   "cell_type": "code",
   "execution_count": 26,
   "id": "closed-ceramic",
   "metadata": {},
   "outputs": [],
   "source": [
    "# Write the code below. We have started the code for you. \n",
    "\n",
    "weather = \"Sunny\"\n"
   ]
  },
  {
   "cell_type": "markdown",
   "id": "adaptive-subscription",
   "metadata": {},
   "source": [
    "## Lists\n",
    "\n"
   ]
  },
  {
   "cell_type": "code",
   "execution_count": null,
   "id": "outdoor-ambassador",
   "metadata": {},
   "outputs": [],
   "source": []
  }
 ],
 "metadata": {
  "kernelspec": {
   "display_name": "Python 3",
   "language": "python",
   "name": "python3"
  },
  "language_info": {
   "codemirror_mode": {
    "name": "ipython",
    "version": 3
   },
   "file_extension": ".py",
   "mimetype": "text/x-python",
   "name": "python",
   "nbconvert_exporter": "python",
   "pygments_lexer": "ipython3",
   "version": "3.7.10"
  }
 },
 "nbformat": 4,
 "nbformat_minor": 5
}
