{
 "cells": [
  {
   "cell_type": "markdown",
   "id": "chicken-defense",
   "metadata": {},
   "source": [
    "<img src=\"https://ai4future.keep.edu.hk/wp-content/uploads/2020/02/CUHK_AI_Logo_Update_Web.png\" width=\"200\" align=\"right\"> <br><br><br><br>\n",
    "<h1><span style=\"color:#338DFF\"> AI With Python Workshop </span></h1>\n",
    "\n",
    "### Welcome to the AI with Python Workshop by CUHK-Jockey Club AI for the Future Project\n",
    "\n",
    "This notebook complements the powerpoint slides during the workshop and will be used to do the coding exercises \n",
    "\n",
    "-----------"
   ]
  },
  {
   "cell_type": "markdown",
   "id": "regulated-scratch",
   "metadata": {},
   "source": [
    "## Say Hello to Python\n",
    "\n",
    "Our first coding exercise. We print \"Hello World\" on our computer screen.  \n",
    "\n",
    "In the coding cell below type ```print(\"Hello World\")``` and press the **Run** button"
   ]
  },
  {
   "cell_type": "code",
   "execution_count": null,
   "id": "falling-carolina",
   "metadata": {},
   "outputs": [],
   "source": []
  }
 ],
 "metadata": {
  "kernelspec": {
   "display_name": "Python 3",
   "language": "python",
   "name": "python3"
  },
  "language_info": {
   "codemirror_mode": {
    "name": "ipython",
    "version": 3
   },
   "file_extension": ".py",
   "mimetype": "text/x-python",
   "name": "python",
   "nbconvert_exporter": "python",
   "pygments_lexer": "ipython3",
   "version": "3.7.10"
  }
 },
 "nbformat": 4,
 "nbformat_minor": 5
}
