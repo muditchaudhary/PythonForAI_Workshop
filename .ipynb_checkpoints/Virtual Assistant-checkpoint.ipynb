{
 "cells": [
  {
   "cell_type": "markdown",
   "id": "focused-possession",
   "metadata": {},
   "source": [
    "<img src=\"https://ai4future.keep.edu.hk/wp-content/uploads/2020/02/CUHK_AI_Logo_Update_Web.png\" width=\"200\" align=\"right\"> <br><br><br><br>\n",
    "<h1><span style=\"color:#338DFF\"> AI With Python Workshop </span></h1>\n",
    "\n",
    "### Welcome to the AI with Python Workshop by CUHK-Jockey Club AI for the Future Project\n",
    "\n",
    "This notebook complements the powerpoint slides during the workshop and will be used to do the coding exercises \n",
    "\n",
    "-----------"
   ]
  },
  {
   "cell_type": "markdown",
   "id": "hawaiian-tsunami",
   "metadata": {},
   "source": [
    "\n",
    "\n",
    "\n",
    "# AI Project using Python\n",
    "\n",
    "In this project we will create a virtual assistant that understands natural language. We will be able to interact with it in English to perform the following tasks:\n",
    "\n",
    "<img src=\"https://cdn.dribbble.com/users/324481/screenshots/7149521/media/4fb25c016884dbbd1352e75916fa5f81.png?compress=1&resize=400x300\" width=\"200\" align=\"right\">\n",
    "\n",
    "* **Chit-chat**\n",
    "    * Tell jokes\n",
    "* **Weather**\n",
    "    * Get current weather for any city\n",
    "* **Movies**\n",
    "    * Get rating for a movie\n",
    "    * Find the director(s) of a movie\n",
    "    * Find the actor(s) in a movie"
   ]
  },
  {
   "cell_type": "markdown",
   "id": "allied-optimum",
   "metadata": {},
   "source": [
    "## Learning outcomes\n",
    "\n",
    "In this tutorial you will learn:  \n",
    "* The basic terminologies required in virtual assistant systems\n",
    "    * Intents\n",
    "    * Slots\n",
    "    * Entities\n",
    "    * Utterances\n",
    "* How to use SNIPS-NLU to understand natural language and detect intents, slots, and entities from utterances.\n",
    "* How to use the detected intents, slots and entities to get information from APIs\n",
    "----\n",
    "----\n",
    "----"
   ]
  },
  {
   "cell_type": "markdown",
   "id": "banned-flashing",
   "metadata": {},
   "source": [
    "# Let's Begin\n",
    "\n",
    "## Install the Libraries\n",
    "First we need to install the required libraries.  \n",
    "Go to Datalore's **Library Manager** on the left side and install the following libraries.\n",
    "\n",
    "* **snips-nlu**\n",
    "    * This library deals with the Natural Language Understanding to detect intents, slots, and entities.\n",
    "* **pyjokes**\n",
    "    * This library provides jokes based on Python.\n",
    "* **python-weather**\n",
    "    * This library provides the weather API to get weather information.\n",
    "* **imdbpy**\n",
    "    * This library provides the IMDB movie APU to get movie information.\n",
    "    \n",
    "Move on to the next step once all the libraries are successfully installed.\n",
    "\n",
    "---"
   ]
  },
  {
   "cell_type": "markdown",
   "id": "portable-preparation",
   "metadata": {},
   "source": [
    "## Prepare the training dataset\n",
    "\n",
    "Prepare the training dataset to train your Natural Language Understanding (NLU) Engine.\n",
    "\n",
    "In our training dataset, we will have the following **intents**:\n",
    "\n",
    "1. **tell_joke** : To detect that the user is asking the virtual assistant for a joke. There are no slots required for this intent.\n",
    "    * **Example utterances:** \"Hi, tell me a joke.\", \"I'm bored. Entertain me with a funny joke.\"  \n",
    "    \n",
    "    \n",
    "2. **get_weather** : To detect that the user is asking for current weather of a city. For this intent we need to fill a slot for ``city``.\n",
    "    * **Example utterances:** \"How is the weather in New York?\", \"I wonder how the weather conditions are like in Hong Kong right now?\"  \n",
    "    \n",
    "    \n",
    "    \n",
    "3. **get_rating** : To detect that the user is asking the rating for a movie. For this intent we need to fill a slot for ``movie_name``.\n",
    "    * **Example utterances:** \"How good is the movie Batman?\", \"I want to know the movie ratings for Fast and Furious\"  \n",
    "    \n",
    "    \n",
    "    \n",
    "4. **get_director** : To detect that the user is asking for who is the director of a movie. For this intent we need to fill a slot for ``movie_name``.\n",
    "    * **Example utterances:** \"Who directed Tenet?\", \"I want to know the director of the movie Ip Man\"  \n",
    "\n",
    "\n",
    "\n",
    "5. **get_cast** : To detect that the user is asking for who acted in a movie. For this intent we need to fill a slot for ``movie_name``.\n",
    "    * **Example utterances:** \"Who acted in the movie Joker?\", \"What is the cast for the movie The Boat People?\"\n",
    "    \n",
    "\n",
    "We will have the following **entities**:\n",
    "\n",
    "1. **city**\n",
    "    * **Examples**: Hong Kong, New York, Dublin, London  \n",
    "    \n",
    "    \n",
    "2. **movie_name**\n",
    "    * **Examples**: Star Wars, Ip Man, The Dark Knight, La la land\n",
    "\n",
    "\n",
    "**We have created a starter dataset for you with 1 example intent and 1 example entity in the file ``dataset.yaml``**"
   ]
  },
  {
   "cell_type": "markdown",
   "id": "regulation-constraint",
   "metadata": {},
   "source": [
    "## Import libraries\n",
    "\n",
    "Run the cell below to import the required libraries and functions.\n",
    "\n",
    "**Note:** _We have pre-written some code to simplify the weather and movie rating APIs in the file ``utils.py``. You can view the file later to understand the inner working in more detail._"
   ]
  },
  {
   "cell_type": "code",
   "execution_count": null,
   "id": "nonprofit-ground",
   "metadata": {},
   "outputs": [],
   "source": [
    "# Run this cell\n",
    "\n",
    "!python -m snips_nlu download en\n",
    "!git clone https://github.com/muditchaudhary/workshop_utils \n",
    "from workshop_utils.utils import *\n",
    "import io\n",
    "import json\n",
    "from snips_nlu import SnipsNLUEngine\n",
    "from snips_nlu.default_configs import CONFIG_EN\n",
    "!python -m snips_nlu download en"
   ]
  },
  {
   "cell_type": "markdown",
   "id": "defensive-furniture",
   "metadata": {},
   "source": [
    "## Convert the dataset to json format\n",
    "\n",
    "Run the next cell to convert the dataset to json format to train the NLU Engine"
   ]
  },
  {
   "cell_type": "code",
   "execution_count": null,
   "id": "informed-medication",
   "metadata": {},
   "outputs": [],
   "source": [
    "# Run this cell\n",
    "\n",
    "!snips-nlu generate-dataset en dataset.yaml > dataset.json"
   ]
  },
  {
   "cell_type": "markdown",
   "id": "quarterly-amazon",
   "metadata": {},
   "source": [
    "# Open the dataset\n",
    "\n",
    "To open the dataset, we will follow the following steps:\n",
    "1. Use ``open`` function to load the file into Python in a variable called ``dataset_file``.\n",
    "2. use ``load`` function from ``json`` as ``json.load(dataset_file)`` into a variable called ``training_dataset``."
   ]
  },
  {
   "cell_type": "code",
   "execution_count": null,
   "id": "medium-harvey",
   "metadata": {},
   "outputs": [],
   "source": [
    "# Write the code below\n",
    "dataset_file = open(\"dataset.json\", \"r\")\n",
    "training_dataset = json.load(dataset_fildataset)"
   ]
  },
  {
   "cell_type": "markdown",
   "id": "atmospheric-squad",
   "metadata": {},
   "source": [
    "## Initialize the Snips-NLU Engine with English Configuration\n",
    "\n",
    "We will start our Snips-NLU engine using the ``SnipsNLUEngine()``. We will pass a parameter in it as ``config==CONFIG_EN``, which will load the English language configuration in our NLU engine. \n",
    "\n",
    "We will store the Snips-NLU engine in a variable called ``NLUengine``"
   ]
  },
  {
   "cell_type": "code",
   "execution_count": null,
   "id": "amino-accused",
   "metadata": {},
   "outputs": [],
   "source": [
    "# Write the code below\n",
    "\n",
    "NLUengine = SnipsNLUEngine(config=CONFIG_EN)"
   ]
  },
  {
   "cell_type": "markdown",
   "id": "about-kitchen",
   "metadata": {},
   "source": [
    "## Try the engine to predict the slots and intents for an utterance\n",
    "\n",
    "We will use our NLU engine's ``parse`` function to make a prediction as ``prediction = NLUengine.parse(your utterance)``\n",
    "\n",
    "You will notice that it will give a ``Not Trained Error`` because we haven't trained the engine yet. In the next step, we will train the engine"
   ]
  },
  {
   "cell_type": "code",
   "execution_count": null,
   "id": "disturbed-print",
   "metadata": {},
   "outputs": [],
   "source": [
    "# Write the code below\n",
    "\n",
    "predictions = NLUengine.parse(\"How's the weather in Hong Kong?\")\n",
    "print(predictions)"
   ]
  },
  {
   "cell_type": "markdown",
   "id": "economic-counter",
   "metadata": {},
   "source": [
    "## Train the NLU Engine\n",
    "\n",
    "We will now train the NLU engine using our training dataset. We will use ``fit()`` function to train the model\n",
    "\n",
    "To train the model we have to run:\n",
    "```\n",
    "NLUengine.fit(training_dataset)\n",
    "```"
   ]
  },
  {
   "cell_type": "code",
   "execution_count": null,
   "id": "apparent-infection",
   "metadata": {},
   "outputs": [],
   "source": [
    "# Write the code below\n",
    "\n",
    "NLUengine.fit(training_dataset)"
   ]
  },
  {
   "cell_type": "markdown",
   "id": "binary-entrance",
   "metadata": {},
   "source": [
    "## Let's try to predict again\n",
    "\n",
    "Let's try to use our model on the sentence ``\"How's the weather in Hong Kong\"``\n",
    "\n",
    "Use the function ``prediction = NLUengine.parse(your utterance)``"
   ]
  },
  {
   "cell_type": "code",
   "execution_count": null,
   "id": "under-frost",
   "metadata": {},
   "outputs": [],
   "source": [
    "# Write the code below\n",
    "\n",
    "prediction = NLUengine.parse(\"How's the weather in Hong Kong?\")"
   ]
  },
  {
   "cell_type": "markdown",
   "id": "aging-agent",
   "metadata": {},
   "source": [
    "## Print the prediction\n",
    "\n",
    "To print the prediction in a more readable format we will use ``json.dumps()`` function as:\n",
    "\n",
    "``print(json.dumps(prediction, indent=2))``\n"
   ]
  },
  {
   "cell_type": "code",
   "execution_count": null,
   "id": "distinct-importance",
   "metadata": {},
   "outputs": [],
   "source": [
    "# Write the code below\n",
    "\n",
    "print(json.dumps(prediction, indent=2))"
   ]
  },
  {
   "cell_type": "markdown",
   "id": "coral-outreach",
   "metadata": {},
   "source": [
    "## Get the intent\n",
    "\n",
    "To get the intent we access the intent name element from the resulted ``prediction`` dictionary.\n",
    "\n",
    "We have made a function for you to get the intent easily. You can use ``get_intent(prediction)`` to get the intent.\n"
   ]
  },
  {
   "cell_type": "code",
   "execution_count": null,
   "id": "lesser-hudson",
   "metadata": {},
   "outputs": [],
   "source": [
    "# Write the code below\n",
    "\n",
    "print(get_intent(prediction))"
   ]
  },
  {
   "cell_type": "markdown",
   "id": "floating-verse",
   "metadata": {},
   "source": [
    "## Get the slot's entity type\n",
    "There can be multiple slots mentioned in an utternace. But in our tutorial we only have 1 slot per utterance. \n",
    "\n",
    "You can use our function ``get_entity_type(prediction)`` to get the slot's entity type."
   ]
  },
  {
   "cell_type": "code",
   "execution_count": null,
   "id": "scientific-engagement",
   "metadata": {},
   "outputs": [],
   "source": [
    "# Write the code below\n",
    "\n",
    "print(get_entity_type(prediction))"
   ]
  },
  {
   "cell_type": "markdown",
   "id": "promotional-bottom",
   "metadata": {},
   "source": [
    "## Get the entity's value\n",
    "\n",
    "Similar to slots, there can be multiple entity values. But our tutorial will only have 1 value per slot. \n",
    "\n",
    "You can use our function ``get_entity_value(prediction)`` to get the slot's value."
   ]
  },
  {
   "cell_type": "code",
   "execution_count": null,
   "id": "moved-conversation",
   "metadata": {},
   "outputs": [],
   "source": [
    "# Write the code below\n",
    "\n",
    "print(get_entity_value(prediction))"
   ]
  },
  {
   "cell_type": "markdown",
   "id": "efficient-detail",
   "metadata": {},
   "source": [
    "## Integrate NLU Engine with API\n",
    "\n",
    "We have provided you with the following pre-defined functions:\n",
    "1. ```get_current_weather(city)```: Given a city, it will print its current temperature and weather condition\n",
    "2. ```get_movie_rating(movie_name)```: Given a movie name, it will print its IMDB rating\n",
    "3. ```get_directors(movie_name)```: Given a movie name, it will print the name(s) of its director(s)\n",
    "4. ```get_cast(movie_name)```: Given a movie name, it will print the cast of the movie\n",
    "5. ```pyjokes.get_joke()```: This function from pyjokes library returns a joke (a nerdy programming based joke)\n",
    "\n",
    "We will now use these functions to integrate our NLU with the APIs to get a working virtual assistant"
   ]
  },
  {
   "cell_type": "markdown",
   "id": "ancient-fountain",
   "metadata": {},
   "source": [
    "## Create a function\n",
    "\n",
    "First we create a function called ```assistant``` that given an utterance, gives an appropriate response based on user's intent.\n",
    "\n",
    "The function will have ``utterance`` as one of the parameter.\n",
    "\n",
    "The function should work in the following manner:\n",
    "\n",
    "1. Get the intent of the utterance using the NLU Engine\n",
    "2. If the intent is ```tell_joke```, print the output of ```pyjokes.get_joke()``` function.\n",
    "3. Else if the intent is ```get_weather```, get the value of slot ```city``` and use the ```get_current_weather(city)``` function.\n",
    "4. Else if the intent is ```get_rating```, get the value of slot ```movie_name``` and use the ```get_movie_rating(movie_name)``` function.\n",
    "5. Else if the intent is ```get_director```, get the value of slot ```movie_name``` and use the ```get_movie_directors(movie_name)``` function.\n",
    "5. Else if the intent is ```get_cast```, get the value of slot ```movie_name``` and use the ```get_movie_cast(movie_name)``` function.\n",
    "6. Else ```print(\"Unknown intent\")```."
   ]
  },
  {
   "cell_type": "code",
   "execution_count": null,
   "id": "cross-event",
   "metadata": {},
   "outputs": [],
   "source": [
    "# Write the code below\n",
    "\n",
    "def assistant(utterance):\n",
    "    prediction = NLUengine.parse(utterance)\n",
    "    intent = get_intent(prediction)\n",
    "    \n",
    "    if (intent == \"tell_joke\"):\n",
    "        print(pyjokes.get_joke())\n",
    "    elif (intent == \"get_weather\"):\n",
    "        city_name = get_entity_value(prediction)\n",
    "        get_current_weather(city_name)\n",
    "    elif (intent == \"get_rating\"):\n",
    "        movie_name = get_entity_value(prediction)\n",
    "        get_movie_rating(movie_name)\n",
    "    elif (intent == \"get_director\"):\n",
    "        movie_name = get_entity_value(prediction)\n",
    "        get_movie_directors(movie_name)\n",
    "    elif (intent == \"get_cast\"):\n",
    "        movie_name = get_entity_value(prediction)\n",
    "        get_movie_cast(movie_name)\n",
    "    else:\n",
    "        print(\"Unknown intent\")\n",
    "        "
   ]
  },
  {
   "cell_type": "markdown",
   "id": "pediatric-turkey",
   "metadata": {},
   "source": [
    "## Create a conversation loop\n",
    "\n",
    "\n",
    "We will create a loop that keeps on going until the user enters \"Bye\"\n",
    "\n",
    "We will use a new kind of loop called ``while-loop``\n",
    "\n",
    "The loop has to accomplish the following things:\n",
    "1. Keep asking for user input until the user enters \"Bye\"\n",
    "2. Call the ```assistant``` function on the user's input\n",
    "\n",
    "To break the loop, we will use a new keyword called ``break``.  \n",
    "\n",
    "To get input from the user we will use a Python function called ``input``.  \n",
    "\n",
    "**We have partially written the code below to help you. Please fill the remaining code**"
   ]
  },
  {
   "cell_type": "code",
   "execution_count": null,
   "id": "empty-eating",
   "metadata": {},
   "outputs": [],
   "source": [
    "# Complete the code below\n",
    "\n",
    "while True:\n",
    "    user_utterance=input()\n",
    "    \n",
    "    # This if statement should break the loop if the user_input is \"Bye\"\n",
    "    if (user_input == \"\"\" Enter the correct value here \"\"\"):\n",
    "        break\n",
    "    \n",
    "    else:\n",
    "        \"\"\"Enter the code here to call assistant function using user_input here\"\"\""
   ]
  },
  {
   "cell_type": "markdown",
   "id": "large-nepal",
   "metadata": {},
   "source": [
    "# End of Part 2\n",
    "\n",
    "## Thank you for attending the workshop"
   ]
  }
 ],
 "metadata": {
  "kernelspec": {
   "display_name": "Python 3",
   "language": "python",
   "name": "python3"
  },
  "language_info": {
   "codemirror_mode": {
    "name": "ipython",
    "version": 3
   },
   "file_extension": ".py",
   "mimetype": "text/x-python",
   "name": "python",
   "nbconvert_exporter": "python",
   "pygments_lexer": "ipython3",
   "version": "3.7.10"
  }
 },
 "nbformat": 4,
 "nbformat_minor": 5
}
