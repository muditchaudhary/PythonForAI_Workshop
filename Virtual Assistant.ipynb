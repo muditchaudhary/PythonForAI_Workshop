{
  "cells":[
    {
      "cell_type":"markdown",
      "source":[
        "<img src=\"https:\/\/ai4future.keep.edu.hk\/wp-content\/uploads\/2020\/02\/CUHK_AI_Logo_Update_Web.png\" width=\"200\" align=\"right\"> <br><br><br><br>\n",
        "<h1><span style=\"color:#338DFF\"> AI With Python Workshop <\/span><\/h1>\n",
        "\n",
        "### Welcome to the AI with Python Workshop by CUHK-Jockey Club AI for the Future Project\n",
        "\n",
        "This notebook complements the powerpoint slides during the workshop and will be used to do the coding exercises \n",
        "\n",
        "-----------"
      ],
      "metadata":{
        
      }
    },
    {
      "cell_type":"markdown",
      "source":[
        "\n",
        "\n",
        "\n",
        "# AI Project using Python\n",
        "\n",
        "In this project we will create a virtual assistant that understands natural language. We will be able to interact with it in English to perform the following tasks:\n",
        "\n",
        "<img src=\"https:\/\/cdn.dribbble.com\/users\/324481\/screenshots\/7149521\/media\/4fb25c016884dbbd1352e75916fa5f81.png?compress=1&resize=400x300\" width=\"200\" align=\"right\">\n",
        "\n",
        "* **Chit-chat**\n",
        "    * Tell jokes\n",
        "* **Weather**\n",
        "    * Get current weather for any city\n",
        "* **Movies**\n",
        "    * Get rating for a movie\n",
        "    * Find the director(s) of a movie\n",
        "    * Find the actor(s) in a movie"
      ],
      "metadata":{
        
      }
    },
    {
      "cell_type":"markdown",
      "source":[
        "## Learning outcomes\n",
        "\n",
        "In this tutorial you will learn:  \n",
        "* The basic terminologies required in virtual assistant systems\n",
        "    * Intents\n",
        "    * Slots\n",
        "    * Entities\n",
        "    * Utterances\n",
        "* How to use SNIPS-NLU to understand natural language and detect intents, slots, and entities from utterances.\n",
        "* How to use the detected intents, slots and entities to get information from APIs\n",
        "----\n",
        "----\n",
        "----"
      ],
      "metadata":{
        
      }
    },
    {
      "cell_type":"markdown",
      "source":[
        "# Let's Begin\n",
        "\n",
        "## Install the Libraries\n",
        "First we need to install the required libraries.  \n",
        "Go to Datalore's **Library Manager** on the left side and install the following libraries.\n",
        "\n",
        "* **snips-nlu**\n",
        "    * This library deals with the Natural Language Understanding to detect intents, slots, and entities.\n",
        "* **pyjokes**\n",
        "    * This library provides jokes based on Python.\n",
        "* **pyowm**\n",
        "    * This library provides the weather API to get weather information.\n",
        "* **imdbpy**\n",
        "    * This library provides the IMDB movie APU to get movie information.\n",
        "    \n",
        "Move on to the next step once all the libraries are successfully installed.\n",
        "\n",
        "---"
      ],
      "metadata":{
        
      }
    },
    {
      "cell_type":"markdown",
      "source":[
        "## Prepare the training dataset\n",
        "\n",
        "Prepare the training dataset to train your Natural Language Understanding (NLU) Engine.\n",
        "\n",
        "In our training dataset, we will have the following **intents**:\n",
        "\n",
        "1. **tell_joke** : To detect that the user is asking the virtual assistant for a joke. There are no slots required for this intent.\n",
        "    * **Example utterances:** \"Hi, tell me a joke.\", \"I'm bored. Entertain me with a funny joke.\"  \n",
        "    \n",
        "    \n",
        "2. **get_weather** : To detect that the user is asking for current weather of a city. For this intent we need to fill a slot for ``city``.\n",
        "    * **Example utterances:** \"How is the weather in New York?\", \"I wonder how the weather conditions are like in Hong Kong right now?\"  \n",
        "    \n",
        "    \n",
        "    \n",
        "3. **get_rating** : To detect that the user is asking the rating for a movie. For this intent we need to fill a slot for ``movie_name``.\n",
        "    * **Example utterances:** \"How good is the movie Batman?\", \"I want to know the movie ratings for Fast and Furious\"  \n",
        "    \n",
        "    \n",
        "    \n",
        "4. **get_director** : To detect that the user is asking for who is the director of a movie. For this intent we need to fill a slot for ``movie_name``.\n",
        "    * **Example utterances:** \"Who directed Tenet?\", \"I want to know the director of the movie Ip Man\"  \n",
        "\n",
        "\n",
        "\n",
        "5. **get_cast** : To detect that the user is asking for who acted in a movie. For this intent we need to fill a slot for ``movie_name``.\n",
        "    * **Example utterances:** \"Who acted in the movie Joker?\", \"What is the cast for the movie The Boat People?\"\n",
        "    \n",
        "\n",
        "We will have the following **entities**:\n",
        "\n",
        "1. **city**\n",
        "    * **Examples**: Hong Kong, New York, Dublin, London  \n",
        "    \n",
        "    \n",
        "2. **movie_name**\n",
        "    * **Examples**: Star Wars, Ip Man, The Dark Knight, La la land\n",
        "\n",
        "\n",
        "**We have created a starter dataset for you with 1 example intent and 1 example entity in the file ``dataset.yaml``**"
      ],
      "metadata":{
        
      }
    },
    {
      "cell_type":"markdown",
      "source":[
        "## Import libraries\n",
        "\n",
        "Run the cell below to import the required libraries and functions.\n",
        "\n",
        "**Note:** _We have pre-written some code to simplify the weather and movie rating APIs in the file ``utils.py``. You can view the file later to understand the inner working in more detail._"
      ],
      "metadata":{
        
      }
    },
    {
      "cell_type":"code",
      "source":[
        "# Run this cell\n",
        "\n",
        "!python -m snips_nlu download en\n",
        "!git clone https:\/\/github.com\/muditchaudhary\/workshop_utils \n",
        "!pip install pyjokes\n",
        "from workshop_utils.utils import *\n",
        "import pyjokes\n",
        "import json\n",
        "from snips_nlu import SnipsNLUEngine\n",
        "from snips_nlu.default_configs import CONFIG_EN"
      ],
      "execution_count":1,
      "outputs":[
        {
          "name":"stdout",
          "text":[
            "Collecting snips_nlu_en==0.2.3\r\n",
            "  Downloading https:\/\/github.com\/snipsco\/snips-nlu-language-resources\/releases\/download\/snips_nlu_en-0.2.3\/snips_nlu_en-0.2.3.tar.gz (1.3 MB)\r\n",
            "\u001b[?25l\r\u001b[K     |▎                               | 10 kB 21.6 MB\/s eta 0:00:01\r\u001b[K     |▌                               | 20 kB 24.2 MB\/s eta 0:00:01\r\u001b[K     |▊                               | 30 kB 8.6 MB\/s eta 0:00:01\r\u001b[K     |█                               | 40 kB 4.6 MB\/s eta 0:00:01\r\u001b[K     |█▎                              | 51 kB 5.6 MB\/s eta 0:00:01\r\u001b[K     |█▌                              | 61 kB 5.3 MB\/s eta 0:00:01\r\u001b[K     |█▊                              | 71 kB 6.0 MB\/s eta 0:00:01\r\u001b[K     |██                              | 81 kB 6.4 MB\/s eta 0:00:01\r\u001b[K     |██▎                             | 92 kB 6.1 MB\/s eta 0:00:01\r\u001b[K     |██▌                             | 102 kB 5.5 MB\/s eta 0:00:01\r\u001b[K     |██▉                             | 112 kB 5.5 MB\/s eta 0:00:01\r\u001b[K     |███                             | 122 kB 5.5 MB\/s eta 0:00:01\r\u001b[K     |███▎                            | 133 kB 5.5 MB\/s eta 0:00:01\r\u001b[K     |███▌                            | 143 kB 5.5 MB\/s eta 0:00:01\r\u001b[K     |███▉                            | 153 kB 5.5 MB\/s eta 0:00:01\r\u001b[K     |████                            | 163 kB 5.5 MB\/s eta 0:00:01\r\u001b[K     |████▎                           | 174 kB 5.5 MB\/s eta 0:00:01\r\u001b[K     |████▋                           | 184 kB 5.5 MB\/s eta 0:00:01\r\u001b[K     |████▉                           | 194 kB 5.5 MB\/s eta 0:00:01\r\u001b[K     |█████                           | 204 kB 5.5 MB\/s eta 0:00:01\r\u001b[K     |█████▎                          | 215 kB 5.5 MB\/s eta 0:00:01\r\u001b[K     |█████▋                          | 225 kB 5.5 MB\/s eta 0:00:01\r\u001b[K     |█████▉                          | 235 kB 5.5 MB\/s eta 0:00:01\r\u001b[K     |██████                          | 245 kB 5.5 MB\/s eta 0:00:01\r\u001b[K     |██████▍                         | 256 kB 5.5 MB\/s eta 0:00:01\r\u001b[K     |██████▋                         | 266 kB 5.5 MB\/s eta 0:00:01\r\u001b[K     |██████▉                         | 276 kB 5.5 MB\/s eta 0:00:01\r\u001b[K     |███████                         | 286 kB 5.5 MB\/s eta 0:00:01\r\u001b[K     |███████▍                        | 296 kB 5.5 MB\/s eta 0:00:01\r\u001b[K     |███████▋                        | 307 kB 5.5 MB\/s eta 0:00:01\r\u001b[K     |███████▉                        | 317 kB 5.5 MB\/s eta 0:00:01\r\u001b[K     |████████▏                       | 327 kB 5.5 MB\/s eta 0:00:01\r\u001b[K     |████████▍                       | 337 kB 5.5 MB\/s eta 0:00:01\r\u001b[K     |████████▋                       | 348 kB 5.5 MB\/s eta 0:00:01\r\u001b[K     |████████▉                       | 358 kB 5.5 MB\/s eta 0:00:01\r\u001b[K     |█████████▏                      | 368 kB 5.5 MB\/s eta 0:00:01\r\u001b[K     |█████████▍                      | 378 kB 5.5 MB\/s eta 0:00:01\r\u001b[K     |█████████▋                      | 389 kB 5.5 MB\/s eta 0:00:01\r\u001b[K     |██████████                      | 399 kB 5.5 MB\/s eta 0:00:01\r\u001b[K     |██████████▏                     | 409 kB 5.5 MB\/s eta 0:00:01\r\u001b[K     |██████████▍                     | 419 kB 5.5 MB\/s eta 0:00:01\r\u001b[K     |██████████▋                     | 430 kB 5.5 MB\/s eta 0:00:01\r\u001b[K     |███████████                     | 440 kB 5.5 MB\/s eta 0:00:01\r\u001b[K     |███████████▏                    | 450 kB 5.5 MB\/s eta 0:00:01\r\u001b[K     |███████████▍                    | 460 kB 5.5 MB\/s eta 0:00:01\r\u001b[K     |███████████▋                    | 471 kB 5.5 MB\/s eta 0:00:01\r\u001b[K     |████████████                    | 481 kB 5.5 MB\/s eta 0:00:01\r\u001b[K     |████████████▏                   | 491 kB 5.5 MB\/s eta 0:00:01\r\u001b[K     |████████████▍                   | 501 kB 5.5 MB\/s eta 0:00:01\r\u001b[K     |████████████▊                   | 512 kB 5.5 MB\/s eta 0:00:01\r\u001b[K     |█████████████                   | 522 kB 5.5 MB\/s eta 0:00:01\r\u001b[K     |█████████████▏                  | 532 kB 5.5 MB\/s eta 0:00:01\r\u001b[K     |█████████████▍                  | 542 kB 5.5 MB\/s eta 0:00:01\r\u001b[K     |█████████████▊                  | 552 kB 5.5 MB\/s eta 0:00:01\r\u001b[K     |██████████████                  | 563 kB 5.5 MB\/s eta 0:00:01\r\u001b[K     |██████████████▏                 | 573 kB 5.5 MB\/s eta 0:00:01\r\u001b[K     |██████████████▌                 | 583 kB 5.5 MB\/s eta 0:00:01\r\u001b[K     |██████████████▊                 | 593 kB 5.5 MB\/s eta 0:00:01\r\u001b[K     |███████████████                 | 604 kB 5.5 MB\/s eta 0:00:01\r\u001b[K     |███████████████▏                | 614 kB 5.5 MB\/s eta 0:00:01\r\u001b[K     |███████████████▌                | 624 kB 5.5 MB\/s eta 0:00:01\r\u001b[K     |███████████████▊                | 634 kB 5.5 MB\/s eta 0:00:01\r\u001b[K     |████████████████                | 645 kB 5.5 MB\/s eta 0:00:01\r\u001b[K     |████████████████▎               | 655 kB 5.5 MB\/s eta 0:00:01\r\u001b[K     |████████████████▌               | 665 kB 5.5 MB\/s eta 0:00:01\r\u001b[K     |████████████████▊               | 675 kB 5.5 MB\/s eta 0:00:01\r\u001b[K     |█████████████████               | 686 kB 5.5 MB\/s eta 0:00:01\r\u001b[K     |█████████████████▎              | 696 kB 5.5 MB\/s eta 0:00:01\r\u001b[K     |█████████████████▌              | 706 kB 5.5 MB\/s eta 0:00:01\r\u001b[K     |█████████████████▊              | 716 kB 5.5 MB\/s eta 0:00:01\r\u001b[K     |██████████████████              | 727 kB 5.5 MB\/s eta 0:00:01\r\u001b[K     |██████████████████▎             | 737 kB 5.5 MB\/s eta 0:00:01\r\u001b[K     |██████████████████▌             | 747 kB 5.5 MB\/s eta 0:00:01\r\u001b[K     |██████████████████▊             | 757 kB 5.5 MB\/s eta 0:00:01\r\u001b[K     |███████████████████             | 768 kB 5.5 MB\/s eta 0:00:01\r\u001b[K     |███████████████████▎            | 778 kB 5.5 MB\/s eta 0:00:01\r\u001b[K     |███████████████████▌            | 788 kB 5.5 MB\/s eta 0:00:01\r\u001b[K     |███████████████████▉            | 798 kB 5.5 MB\/s eta 0:00:01\r\u001b[K     |████████████████████            | 808 kB 5.5 MB\/s eta 0:00:01\r\u001b[K     |████████████████████▎           | 819 kB 5.5 MB\/s eta 0:00:01\r\u001b[K     |████████████████████▌           | 829 kB 5.5 MB\/s eta 0:00:01\r\u001b[K     |████████████████████▉           | 839 kB 5.5 MB\/s eta 0:00:01\r\u001b[K     |█████████████████████           | 849 kB 5.5 MB\/s eta 0:00:01\r\u001b[K     |█████████████████████▎          | 860 kB 5.5 MB\/s eta 0:00:01\r\u001b[K     |█████████████████████▋          | 870 kB 5.5 MB\/s eta 0:00:01\r\u001b[K     |█████████████████████▉          | 880 kB 5.5 MB\/s eta 0:00:01\r\u001b[K     |██████████████████████          | 890 kB 5.5 MB\/s eta 0:00:01\r\u001b[K     |██████████████████████▎         | 901 kB 5.5 MB\/s eta 0:00:01\r\u001b[K     |██████████████████████▋         | 911 kB 5.5 MB\/s eta 0:00:01\r\u001b[K     |██████████████████████▉         | 921 kB 5.5 MB\/s eta 0:00:01\r\u001b[K     |███████████████████████         | 931 kB 5.5 MB\/s eta 0:00:01\r\u001b[K     |███████████████████████▎        | 942 kB 5.5 MB\/s eta 0:00:01\r\u001b[K     |███████████████████████▋        | 952 kB 5.5 MB\/s eta 0:00:01\r\u001b[K     |███████████████████████▉        | 962 kB 5.5 MB\/s eta 0:00:01\r\u001b[K     |████████████████████████        | 972 kB 5.5 MB\/s eta 0:00:01\r\u001b[K     |████████████████████████▍       | 983 kB 5.5 MB\/s eta 0:00:01\r\u001b[K     |████████████████████████▋       | 993 kB 5.5 MB\/s eta 0:00:01\r\u001b[K     |████████████████████████▉       | 1.0 MB 5.5 MB\/s eta 0:00:01\r\u001b[K     |█████████████████████████       | 1.0 MB 5.5 MB\/s eta 0:00:01\r\u001b[K     |█████████████████████████▍      | 1.0 MB 5.5 MB\/s eta 0:00:01\r\u001b[K     |█████████████████████████▋      | 1.0 MB 5.5 MB\/s eta 0:00:01\r\u001b[K     |█████████████████████████▉      | 1.0 MB 5.5 MB\/s eta 0:00:01\r\u001b[K     |██████████████████████████▏     | 1.1 MB 5.5 MB\/s eta 0:00:01\r\u001b[K     |██████████████████████████▍     | 1.1 MB 5.5 MB\/s eta 0:00:01\r\u001b[K     |██████████████████████████▋     | 1.1 MB 5.5 MB\/s eta 0:00:01\r\u001b[K     |██████████████████████████▉     | 1.1 MB 5.5 MB\/s eta 0:00:01\r\u001b[K     |███████████████████████████▏    | 1.1 MB 5.5 MB\/s eta 0:00:01\r\u001b[K     |███████████████████████████▍    | 1.1 MB 5.5 MB\/s eta 0:00:01\r\u001b[K     |███████████████████████████▋    | 1.1 MB 5.5 MB\/s eta 0:00:01\r\u001b[K     |████████████████████████████    | 1.1 MB 5.5 MB\/s eta 0:00:01\r\u001b[K     |████████████████████████████▏   | 1.1 MB 5.5 MB\/s eta 0:00:01\r\u001b[K     |████████████████████████████▍   | 1.1 MB 5.5 MB\/s eta 0:00:01\r\u001b[K     |████████████████████████████▋   | 1.2 MB 5.5 MB\/s eta 0:00:01\r\u001b[K     |█████████████████████████████   | 1.2 MB 5.5 MB\/s eta 0:00:01\r\u001b[K     |█████████████████████████████▏  | 1.2 MB 5.5 MB\/s eta 0:00:01\r\u001b[K     |█████████████████████████████▍  | 1.2 MB 5.5 MB\/s eta 0:00:01\r\u001b[K     |█████████████████████████████▊  | 1.2 MB 5.5 MB\/s eta 0:00:01\r\u001b[K     |██████████████████████████████  | 1.2 MB 5.5 MB\/s eta 0:00:01\r\u001b[K     |██████████████████████████████▏ | 1.2 MB 5.5 MB\/s eta 0:00:01\r\u001b[K     |██████████████████████████████▍ | 1.2 MB 5.5 MB\/s eta 0:00:01\r\u001b[K     |██████████████████████████████▊ | 1.2 MB 5.5 MB\/s eta 0:00:01\r\u001b[K     |███████████████████████████████ | 1.2 MB 5.5 MB\/s eta 0:00:01\r\u001b[K     |███████████████████████████████▏| 1.3 MB 5.5 MB\/s eta 0:00:01\r\u001b[K     |███████████████████████████████▌| 1.3 MB 5.5 MB\/s eta 0:00:01\r\u001b[K     |███████████████████████████████▊| 1.3 MB 5.5 MB\/s eta 0:00:01\r\u001b[K     |████████████████████████████████| 1.3 MB 5.5 MB\/s eta 0:00:01\r\u001b[K     |████████████████████████████████| 1.3 MB 5.5 MB\/s \r\n",
            "\u001b[33mWARNING: You are using pip version 21.1; however, version 21.1.2 is available.\r\n",
            "You should consider upgrading via the '\/opt\/python\/envs\/default\/bin\/python -m pip install --upgrade pip' command.\u001b[0m\r\n",
            "\u001b[?25h\r\n",
            "\u001b[92mLinking successful\u001b[0m\r\n",
            "\/opt\/python\/envs\/default\/lib\/python3.8\/site-packages\/snips_nlu_en\/snips_nlu_en-0.2.3 --> \/opt\/python\/envs\/default\/lib\/python3.8\/site-packages\/snips_nlu\/data\/en\r\n",
            "\r\n",
            "fatal: destination path 'workshop_utils' already exists and is not an empty directory.\r\n",
            "Requirement already satisfied: pyjokes in \/opt\/python\/envs\/default\/lib\/python3.8\/site-packages (0.6.0)\r\n",
            "\u001b[33mWARNING: You are using pip version 21.1; however, version 21.1.2 is available.\r\n",
            "You should consider upgrading via the '\/opt\/python\/envs\/default\/bin\/python -m pip install --upgrade pip' command.\u001b[0m\r\n"
          ],
          "output_type":"stream"
        }
      ],
      "metadata":{
        
      }
    },
    {
      "cell_type":"markdown",
      "source":[
        "## Convert the dataset to json format\n",
        "\n",
        "Run the next cell to convert the dataset to json format to train the NLU Engine"
      ],
      "metadata":{
        
      }
    },
    {
      "cell_type":"code",
      "source":[
        "# Run this cell\n",
        "\n",
        "!snips-nlu generate-dataset en workshop_utils\/dataset.yaml > dataset.json"
      ],
      "execution_count":2,
      "outputs":[
        
      ],
      "metadata":{
        
      }
    },
    {
      "cell_type":"markdown",
      "source":[
        "# Open the dataset\n",
        "\n",
        "To open the dataset, we will follow the following steps:\n",
        "1. Use ``open`` function to load the file into Python in a variable called ``dataset_file``.\n",
        "2. use ``load`` function from ``json`` as ``json.load(dataset_file)`` into a variable called ``training_dataset``."
      ],
      "metadata":{
        
      }
    },
    {
      "cell_type":"code",
      "source":[
        "# Write the code below\n",
        "dataset_file = open(\"dataset.json\", \"r\")\n",
        "training_dataset = json.load(dataset_file)"
      ],
      "execution_count":3,
      "outputs":[
        
      ],
      "metadata":{
        
      }
    },
    {
      "cell_type":"markdown",
      "source":[
        "## Initialize the Snips-NLU Engine with English Configuration\n",
        "\n",
        "We will start our Snips-NLU engine using the ``SnipsNLUEngine()``. We will pass a parameter in it as ``config==CONFIG_EN``, which will load the English language configuration in our NLU engine. \n",
        "\n",
        "We will store the Snips-NLU engine in a variable called ``NLUengine``"
      ],
      "metadata":{
        
      }
    },
    {
      "cell_type":"code",
      "source":[
        "# Write the code below\n",
        "\n",
        "NLUengine = SnipsNLUEngine(config=CONFIG_EN)"
      ],
      "execution_count":4,
      "outputs":[
        
      ],
      "metadata":{
        
      }
    },
    {
      "cell_type":"markdown",
      "source":[
        "## Train the NLU Engine\n",
        "\n",
        "We will now train the NLU engine using our training dataset. We will use ``fit()`` function to train the model\n",
        "\n",
        "To train the model we have to run:\n",
        "```\n",
        "NLUengine.fit(training_dataset)\n",
        "```"
      ],
      "metadata":{
        
      }
    },
    {
      "cell_type":"code",
      "source":[
        "# Write the code below\n",
        "\n",
        "NLUengine.fit(training_dataset)"
      ],
      "execution_count":6,
      "outputs":[
        {
          "data":{
            "text\/plain":[
              "<snips_nlu.nlu_engine.nlu_engine.SnipsNLUEngine at 0x7f114c6e7d30>"
            ]
          },
          "metadata":{
            
          },
          "output_type":"display_data"
        }
      ],
      "metadata":{
        
      }
    },
    {
      "cell_type":"markdown",
      "source":[
        "## Let's try to predict again\n",
        "\n",
        "Let's try to use our model on the sentence ``\"How's the weather in Hong Kong\"``\n",
        "\n",
        "Use the function ``prediction = NLUengine.parse(your utterance)``"
      ],
      "metadata":{
        
      }
    },
    {
      "cell_type":"code",
      "source":[
        "# Write the code below\n",
        "\n",
        "prediction = NLUengine.parse(\"How's the weather in Hong Kong?\")"
      ],
      "execution_count":7,
      "outputs":[
        
      ],
      "metadata":{
        
      }
    },
    {
      "cell_type":"markdown",
      "source":[
        "## Print the prediction\n",
        "\n",
        "To print the prediction in a more readable format we will use ``json.dumps()`` function as:\n",
        "\n",
        "``print(json.dumps(prediction, indent=2))``"
      ],
      "metadata":{
        
      }
    },
    {
      "cell_type":"code",
      "source":[
        "# Write the code below\n",
        "\n",
        "print(json.dumps(prediction, indent=2))"
      ],
      "execution_count":8,
      "outputs":[
        {
          "name":"stdout",
          "text":[
            "{\n",
            "  \"input\": \"How's the weather in Hong Kong?\",\n",
            "  \"intent\": {\n",
            "    \"intentName\": \"get_weather\",\n",
            "    \"probability\": 0.7362300660724934\n",
            "  },\n",
            "  \"slots\": [\n",
            "    {\n",
            "      \"range\": {\n",
            "        \"start\": 21,\n",
            "        \"end\": 30\n",
            "      },\n",
            "      \"rawValue\": \"Hong Kong\",\n",
            "      \"value\": {\n",
            "        \"kind\": \"Custom\",\n",
            "        \"value\": \"Hong Kong\"\n",
            "      },\n",
            "      \"entity\": \"city\",\n",
            "      \"slotName\": \"city\"\n",
            "    }\n",
            "  ]\n",
            "}\n"
          ],
          "output_type":"stream"
        }
      ],
      "metadata":{
        
      }
    },
    {
      "cell_type":"markdown",
      "source":[
        "## Get the intent\n",
        "\n",
        "To get the intent we access the intent name element from the resulted ``prediction`` dictionary.\n",
        "\n",
        "We have made a function for you to get the intent easily. You can use ``get_intent(prediction)`` to get the intent."
      ],
      "metadata":{
        
      }
    },
    {
      "cell_type":"code",
      "source":[
        "# Write the code below\n",
        "\n",
        "print(get_intent(prediction))"
      ],
      "execution_count":9,
      "outputs":[
        {
          "name":"stdout",
          "text":[
            "get_weather\n"
          ],
          "output_type":"stream"
        }
      ],
      "metadata":{
        
      }
    },
    {
      "cell_type":"markdown",
      "source":[
        "## Get the slot's entity type\n",
        "There can be multiple slots mentioned in an utternace. But in our tutorial we only have 1 slot per utterance. \n",
        "\n",
        "You can use our function ``get_entity_type(prediction)`` to get the slot's entity type."
      ],
      "metadata":{
        
      }
    },
    {
      "cell_type":"code",
      "source":[
        "# Write the code below\n",
        "\n",
        "print(get_entity_type(prediction))"
      ],
      "execution_count":10,
      "outputs":[
        {
          "name":"stdout",
          "text":[
            "city\n"
          ],
          "output_type":"stream"
        }
      ],
      "metadata":{
        
      }
    },
    {
      "cell_type":"markdown",
      "source":[
        "## Get the entity's value\n",
        "\n",
        "Similar to slots, there can be multiple entity values. But our tutorial will only have 1 value per slot. \n",
        "\n",
        "You can use our function ``get_entity_value(prediction)`` to get the slot's value."
      ],
      "metadata":{
        
      }
    },
    {
      "cell_type":"code",
      "source":[
        "# Write the code below\n",
        "\n",
        "print(get_entity_value(prediction))"
      ],
      "execution_count":11,
      "outputs":[
        {
          "name":"stdout",
          "text":[
            "Hong Kong\n"
          ],
          "output_type":"stream"
        }
      ],
      "metadata":{
        
      }
    },
    {
      "cell_type":"markdown",
      "source":[
        "## Integrate NLU Engine with API\n",
        "\n",
        "We have provided you with the following pre-defined functions:\n",
        "1. ```get_current_weather(city)```: Given a city, it will print its current temperature and weather condition\n",
        "2. ```get_movie_rating(movie_name)```: Given a movie name, it will print its IMDB rating\n",
        "3. ```get_directors(movie_name)```: Given a movie name, it will print the name(s) of its director(s)\n",
        "4. ```get_cast(movie_name)```: Given a movie name, it will print the cast of the movie\n",
        "5. ```pyjokes.get_joke()```: This function from pyjokes library returns a joke (a nerdy programming based joke)\n",
        "\n",
        "We will now use these functions to integrate our NLU with the APIs to get a working virtual assistant"
      ],
      "metadata":{
        
      }
    },
    {
      "cell_type":"markdown",
      "source":[
        "## Create a function\n",
        "\n",
        "First we create a function called ```assistant``` that given an utterance, gives an appropriate response based on user's intent.\n",
        "\n",
        "The function will have ``utterance`` as one of the parameter.\n",
        "\n",
        "The function should work in the following manner:\n",
        "\n",
        "1. Get the intent of the utterance using the NLU Engine\n",
        "2. If the intent is ```tell_joke```, print the output of ```pyjokes.get_joke()``` function.\n",
        "3. Else if the intent is ```get_weather```, get the value of slot ```city``` and use the ``get_current_weather(city)`` function.\n",
        "4. Else if the intent is ```get_rating```, get the value of slot ```movie_name``` and use the ``get_movie_rating(movie_name)`` function.\n",
        "5. Else if the intent is ```get_director```, get the value of slot ```movie_name``` and use the ``get_movie_directors(movie_name)`` function.\n",
        "5. Else if the intent is ```get_cast```, get the value of slot ```movie_name``` and use the ``get_movie_cast(movie_name)`` function.\n",
        "6. Else ``print(\"Unknown intent\")``.\n",
        "\n",
        "**Note: Inside the if-statements for ``get_weather``, ``get_rating``, ``get_director``, and ``get_cast``, you need to add another if-statement to check if the slot-type is correct. If it is not correct, you need to print \"Sorry, please try again.\"**"
      ],
      "metadata":{
        
      }
    },
    {
      "cell_type":"code",
      "source":[
        "# Write the code below\n",
        "\n",
        "def assistant(utterance):\n",
        "    prediction = NLUengine.parse(utterance)\n",
        "    intent = get_intent(prediction)\n",
        "    slot_type = get_entity_type(prediction)\n",
        "\n",
        "\n",
        "\n",
        "    if (intent == \"tell_joke\"):\n",
        "        print(pyjokes.get_joke())\n",
        "\n",
        "    elif (intent == \"get_weather\"):\n",
        "\n",
        "        if (slot_type == \"city\"): \n",
        "            city_name = get_entity_value(prediction)\n",
        "            get_current_weather(city_name)\n",
        "        else:\n",
        "            print(\"Sorry, can you try again?\")\n",
        "\n",
        "    elif (intent == \"get_rating\"):\n",
        "\n",
        "        if (slot_type == \"movie_name\"): \n",
        "            movie_name = get_entity_value(prediction)\n",
        "            print(movie_name)\n",
        "            get_movie_rating(movie_name)\n",
        "        else:\n",
        "            print(\"Sorry, can you try again?\")\n",
        "\n",
        "    elif (intent == \"get_director\"):\n",
        "\n",
        "        if (slot_type == \"movie_name\"): \n",
        "            movie_name = get_entity_value(prediction)\n",
        "            get_movie_directors(movie_name)\n",
        "        else:\n",
        "            print(\"Sorry, can you try again?\")\n",
        "\n",
        "    elif (intent == \"get_cast\"):\n",
        "        \n",
        "        if (slot_type == \"movie_name\"): \n",
        "            movie_name = get_entity_value(prediction)\n",
        "            get_movie_cast(movie_name)\n",
        "        else:\n",
        "            print(\"Sorry, can you try again?\")\n",
        "\n",
        "    else:\n",
        "        print(\"Unknown intent\")\n",
        "        "
      ],
      "execution_count":12,
      "outputs":[
        
      ],
      "metadata":{
        
      }
    },
    {
      "cell_type":"markdown",
      "source":[
        "## Create a conversation loop\n",
        "\n",
        "\n",
        "We will create a loop that keeps on going until the user enters \"Bye\"\n",
        "\n",
        "We will use a new kind of loop called ``while-loop``\n",
        "\n",
        "The loop has to accomplish the following things:\n",
        "1. Keep asking for user input until the user enters \"Bye\"\n",
        "2. Call the ```assistant``` function on the user's input\n",
        "\n",
        "To break the loop, we will use a new keyword called ``break``.  \n",
        "\n",
        "To get input from the user we will use a Python function called ``input``.  \n",
        "\n",
        "**We have partially written the code below to help you. Please fill the remaining code**"
      ],
      "metadata":{
        
      }
    },
    {
      "cell_type":"code",
      "source":[
        "\n",
        "# Complete the code belo\n",
        "print(\"Welcome to the virtual assistant. How can I help you?\")\n",
        "while True:\n",
        "    print(\"------------------------------------\")\n",
        "    user_input=str(input(\"Enter your input: \"))\n",
        "    \n",
        "    # This if statement should break the loop if the user_input is \"Bye\"\n",
        "    if (user_input == \"Bye\"):\n",
        "        print(\"Have a good day!\")\n",
        "        break\n",
        "    \n",
        "    else:\n",
        "        \n",
        "        print(\"Assistant: \")\n",
        "        assistant(user_input)\n",
        "        \"\"\"Enter the code here to call assistant function using user_input here\"\"\""
      ],
      "execution_count":28,
      "outputs":[
        {
          "name":"stdout",
          "text":[
            "Welcome to the virtual assistant. How can I help you?\n",
            "------------------------------------\n",
            "Enter your input:  how is df sdf?\n",
            "Assistant: \n",
            "Sorry, can you try again?\n",
            "------------------------------------\n",
            "Enter your input:  How is the movie Ip Man?\n",
            "Assistant: \n",
            "The director(s) of Ip Man? is\/are:\n",
            "Wilson Yip\n",
            "------------------------------------\n",
            "Enter your input:  Who directed Ip Man?\n",
            "Assistant: \n",
            "The director(s) of Ip is\/are:\n",
            "Cemil Agacikoglu\n",
            "------------------------------------\n",
            "Enter your input:  Who directed the Ip Man?\n",
            "Assistant: \n",
            "The director(s) of the Ip is\/are:\n",
            "Sidney J. Furie\n",
            "------------------------------------\n",
            "Enter your input:  Who directed The Dark Knight?\n",
            "Assistant: \n",
            "The director(s) of The Dark Knight is\/are:\n",
            "Christopher Nolan\n",
            "------------------------------------\n",
            "Enter your input:  Who directed the boat people?\n",
            "Assistant: \n",
            "The director(s) of the boat is\/are:\n",
            "Wolfgang Petersen\n",
            "------------------------------------\n",
            "Enter your input:  Who directed deadpool?\n",
            "Assistant: \n",
            "Sorry, can you try again?\n",
            "------------------------------------\n",
            "Enter your input:  Who directed the movie deadpool?\n",
            "Assistant: \n",
            "The director(s) of the movie is\/are:\n",
            "Noriko Takao\n",
            "------------------------------------\n",
            "Enter your input:  Who directed the deadpool?\n",
            "Assistant: \n",
            "The director(s) of the is\/are:\n",
            "Attila\n",
            "Becky Oben\n",
            "------------------------------------\n",
            "Enter your input:  Who directed Deadpool?\n",
            "Assistant: \n",
            "The director(s) of Deadpool is\/are:\n",
            "Tim Miller\n",
            "------------------------------------\n",
            "Enter your input:  Who acted in The Dark Knight?\n",
            "Assistant: \n",
            "The actors(s) in The Dark Knight is\/are:\n",
            "Christian Bale played the role of Bruce Wayne\n",
            "Heath Ledger played the role of Joker\n",
            "Aaron Eckhart played the role of Harvey Dent\n",
            "Michael Caine played the role of Alfred\n",
            "Maggie Gyllenhaal played the role of Rachel\n",
            "Gary Oldman played the role of Gordon\n",
            "Morgan Freeman played the role of Lucius Fox\n",
            "Monique Gabriela Curnen played the role of Ramirez\n",
            "Ron Dean played the role of Wuertz\n",
            "Cillian Murphy played the role of Scarecrow\n",
            "Chin Han played the role of Lau\n",
            "Nestor Carbonell played the role of Mayor\n",
            "Eric Roberts played the role of Maroni\n",
            "Ritchie Coster played the role of Chechen\n",
            "Anthony Michael Hall played the role of Engel\n",
            "Keith Szarabajka played the role of Stephens\n",
            "Colin McFarlane played the role of Loeb\n",
            "Joshua Harto played the role of Reese\n",
            "Melinda McGraw played the role of Barbara Gordon\n",
            "Nathan Gamble played the role of James Gordon\n",
            "Michael Vieau played the role of Rossi\n",
            "Michael Stoyanov played the role of Dopey\n",
            "William Smillie played the role of Happy\n",
            "Danny Goldring played the role of Grumpy\n",
            "Michael Jai White played the role of Gambol\n",
            "Matthew O'Neill played the role of Chuckles\n",
            "William Fichtner played the role of Bank Manager\n",
            "Olumiji Olawumi played the role of Drug Dealer\n",
            "Greg Beam played the role of Drug Buyer\n",
            "Erik Hellman played the role of Junkie\n",
            "Beatrice Rosen played the role of Natascha\n",
            "Vincenzo Nicoli played the role of Crime Boss\n",
            "Edison Chen played the role of LSI VP\n",
            "Nydia Rodriguez Terracina played the role of Judge Surrillo\n",
            "Andy Luther played the role of Brian\n",
            "James Farruggio played the role of Man No. 1\n",
            "Tom McElroy played the role of Man No. 2\n",
            "Will Zahrn played the role of Assistant DA\n",
            "James Fierro played the role of Thug at Party\n",
            "Patrick Leahy played the role of Gentleman at Party\n",
            "Sam Derence played the role of Male Guest\n",
            "Jennifer Knox played the role of Female Guest\n",
            "Patrick Clear played the role of Judge Freel\n",
            "Sarah Jayne Dunn played the role of Maroni's Mistress\n",
            "Charles Venn played the role of Gambol's Bodyguard\n",
            "Winston Ellis played the role of Gambol's Bodyguard\n",
            "David Dastmalchian played the role of Joker's Thug\n",
            "Sophia Hinshelwood played the role of Reporter\n",
            "Keith Kupferer played the role of Heckler\n",
            "Joseph Luis Caballero played the role of Cop Heckler\n",
            "Richard Dillane played the role of Acting Commissioner\n",
            "Daryl Satcher played the role of Officer at Intersection\n",
            "Chris Petschler played the role of Convoy Leader\n",
            "Aidan Feore played the role of Fat Thug\n",
            "Philip Bulcock played the role of Murphy\n",
            "Paul Birchard played the role of Cop with Fat Thug\n",
            "Walter Lewis played the role of Medic\n",
            "Vincent Riotta played the role of Cop at 250 52nd St.\n",
            "Nancy Crane played the role of Nurse\n",
            "K. Todd Freeman played the role of Polk\n",
            "Matt Shallenberger played the role of Berg\n",
            "Michael Andrew Gorman played the role of Cop at Hospital\n",
            "Lanny Lutz played the role of Bartender\n",
            "Peter DeFaria played the role of Civilian\n",
            "Matt Rippy played the role of First Mate\n",
            "Andrew Bicknell played the role of Prison Ferry Pilot\n",
            "Ariyon Bakare played the role of Guard Commander\n",
            "Doug Ballard played the role of Businessman\n",
            "Helene Maksoud played the role of Mother\n",
            "Tommy Campbell played the role of Passenger\n",
            "Craig Heaney played the role of Passenger\n",
            "Lorna Gayle played the role of Passenger\n",
            "Lisa McAllister played the role of Passenger\n",
            "Peter Brooke played the role of Passenger\n",
            "Joshua Rollins played the role of SWAT Sniper\n",
            "Dale Rivera played the role of SWAT Leader\n",
            "Matthew Leitch played the role of Prisoner on Ferry\n",
            "Tom Lister Jr. played the role of Tattooed Prisoner\n",
            "Thomas Gaitsch played the role of Reporter #3\n",
            "William Armstrong played the role of Evans\n",
            "Adam Kalesperis played the role of Honor Guard Man\n",
            "Tristan Tait played the role of Uniform Cop\n",
            "Bronson Webb played the role of Bounty Hunter\n",
            "David Ajala played the role of Bounty Hunter\n",
            "Gertrude Mosley played the role of Fox's Secretary\n",
            "Jonathan Ryland played the role of Passenger Ferry Pilot\n",
            "James Scales played the role of Guardsman\n",
            "Nigel Carrington played the role of Warden\n",
            "Ian Pirie played the role of Corrections Officer\n",
            "Lateef Lovejoy played the role of Prisoner\n",
            "Grahame Edwards played the role of Prisoner\n",
            "Roger Monk played the role of Prisoner\n",
            "Ronan Summers played the role of Prisoner\n",
            "Wai Wong played the role of Hong Kong Detective\n",
            "Michael Corey Foster played the role of Honor Guard Leader\n",
            "Hannah Gunn played the role of Gordon's Daughter\n",
            "Brandon Lambdin played the role of Armored Car SWAT\n",
            "Jeff Albertson played the role of National Guard \/ Police Officer\n",
            "Tracy L. Aldaz played the role of Emergency Medical Technician\n",
            "Matthew W. Allen played the role of Civilian\n",
            "Stephen Armourae played the role of Ferry Prisoner\n",
            "Alisa Azpeitia played the role of Refugee\n",
            "Mike Bach played the role of Board Room Member\n",
            "Wayne Baker played the role of Loading Dock Supervisor\n",
            "Martin Ballantyne played the role of Joker's Henchman\n",
            "Tommy Bartlett played the role of Maroni's D.A.\n",
            "Paul Bateman played the role of Cameraman\n",
            "Blayne Bennett played the role of Inmate\n",
            "Christian Black played the role of SWAT Team\n",
            "Craig Braginsky played the role of Police Officer\n",
            "Jon Lee Brody played the role of Waiter\n",
            "Douglas Bunn played the role of Gotham City Prision Guard\n",
            "Debbi Burns played the role of Bank Patron\n",
            "Luke Burnyeat played the role of Party Guest\n",
            "Maritza Cabrera played the role of Party Guest\n",
            "Shirin Caiola played the role of Party Guest with Glass\n",
            "Fabrice Calmels played the role of Bodyguard\n",
            "Josh Chapman played the role of Bar Patron\n",
            "Laura Chernicky played the role of Party Guest\n",
            "Matt Cho played the role of Lau Henchman\n",
            "Henry Milton Chu played the role of Lau Henchman\n",
            "Rob Clark played the role of Party Guest\n",
            "Kelli Clevenger played the role of Paramedic\n",
            "David Cosey played the role of Rasta Gang Leader\n",
            "Rachel Daugherty played the role of Bar Patron\n",
            "Bruce Allen Dawson played the role of Ferry Prisoner\n",
            "Danielle Day played the role of Bruce's Supermodel Girlfriend #2\n",
            "Richard Divizio played the role of Chechen Gangster\n",
            "Tony Domino played the role of Press Conference Heckler\n",
            "Jessica Doyle played the role of Hospital Patient\n",
            "Laine Edwards played the role of Civilian\n",
            "R. Michael Egan played the role of Boat Passenger\n",
            "David William James Elliott played the role of Extra\n",
            "Dan Evashevski played the role of Underwear Honor Guard\n",
            "Gene Fojtik played the role of Pedestrian\n",
            "Reese Foster played the role of Party Guest\n",
            "Jason Frederick played the role of Party Guest\n",
            "Jason Fuller played the role of Partisan\n",
            "Darren Elliot Fulsher played the role of Police Officer\n",
            "David Fultz played the role of Pedestrian\n",
            "Scott Ganyo played the role of EMT\n",
            "Marisol Giraud played the role of Party Guest\n",
            "Tim Glanfield played the role of Hostage\n",
            "Dan Gossen played the role of SWAT Officer\n",
            "Lisa Greene played the role of Journalist\n",
            "Sharlene Grover played the role of Party Guest\n",
            "Natalie Hallam played the role of Ferry Passenger\n",
            "Thomas Hartmann played the role of EMT\n",
            "Chris Hastings played the role of Passenger\n",
            "Alexander Hathaway played the role of Prisoner\n",
            "Lindy Hennessy played the role of Hostage\n",
            "Michael Hennessy played the role of Hostage\n",
            "Jordon Hodges played the role of Police Officer\n",
            "John Hoving played the role of Bank Vault Manager\n",
            "Sean Hynes played the role of Bar Patron\n",
            "Bill Ibrahim played the role of Maroni Gangster\n",
            "Gerard Jamroz played the role of Mob Boss\n",
            "Charles Jarman played the role of Pencil Trick Thug\n",
            "Erron Jay played the role of Prisoner\n",
            "Daniel Jefferson played the role of Immigrant Ferry Passenger\n",
            "Ramses Jimenez played the role of National Guard\n",
            "Will Jones played the role of High-Ranking Officer\n",
            "Bob Kaliebe played the role of Police Officer\n",
            "Nicky Katt played the role of Shotgun SWAT\n",
            "Mark Keiser played the role of Businessman \/ Crime Scene Witness\n",
            "Charlie Kierscht played the role of Party Guest\n",
            "Thomas Kosik played the role of Parade Police Officer\n",
            "Don Kress played the role of Maroni's Henchman\n",
            "Ryan Kross played the role of Police Officer\n",
            "Tim Krueger played the role of Assistant D.A.\n",
            "Michael Kuster played the role of Party Guest\n",
            "Dan Latham played the role of Police Sgt. Spellman \/ Gotham Bomb Squad\n",
            "Joseph Lazicki played the role of Party Guest\n",
            "Donovan Leitch Jr. played the role of Ward Neeley\n",
            "David Lesley played the role of Detective\n",
            "Emily Lineham played the role of Civilian\n",
            "Deborah Lynn played the role of Party Guest\n",
            "Noelle Lynn played the role of Pedestrian\n",
            "Jonathan Macchi played the role of Party Guest\n",
            "Al Marchesi played the role of Police Officer\n",
            "J.R. Martino played the role of Firefighter \/ Citizen\n",
            "Joseph Mazurk played the role of Bailiff \/ Parade Policeman\n",
            "Tom McComas played the role of Helicopter SWAT Sniper\n",
            "Krista McEnany played the role of Party Guest\n",
            "Ryan McGonagle played the role of Banker\n",
            "James Mellor played the role of Ferry Passenger\n",
            "Denise Meyer Kennell played the role of TV Reporter\n",
            "David J. Nadolski played the role of Partygoer\n",
            "Joseph Nelson played the role of Police Officer\n",
            "Joseph Oliveira played the role of Officer\n",
            "Sal Ozbay played the role of Gang Member\n",
            "Christopher Pastenes played the role of Prisoner\n",
            "Libby Pedersen played the role of Party Guest\n",
            "Greg Peterson played the role of Gotham City Evacuee \/ Resident\n",
            "Ernest Pierce played the role of Shotgun SWAT\n",
            "Kevin Pitcairn played the role of Firefighter at Lamborghini Crash Scene\n",
            "Rory Plante played the role of Evacuating Hospital Patient\n",
            "Pek Pongpaet played the role of Lau Henchman\n",
            "Charles Query played the role of Businessman\n",
            "Marc Radz played the role of Party Guest\n",
            "Buster Reeves played the role of Joker's Thug #2\n",
            "Sara Ritz played the role of Ballerina\n",
            "Peter Rnic played the role of Prisoner\n",
            "Gary Ryder played the role of Man on Boulevard\n",
            "Kelly Saindon played the role of Attorney\n",
            "Elisa Schleef played the role of Extra\n",
            "Greg Schweiner played the role of Assistant D.A.\n",
            "Jan Seybold played the role of Dent's Secretary\n",
            "Amit Shah played the role of Party Guest\n",
            "Vivek Shah played the role of Middle Eastern Bank Hostage\n",
            "Michael Sherwin played the role of Gotham TV Reporter\n",
            "Michelle Shields played the role of Angry Hospital Relative\n",
            "Tina Simmons played the role of Detective\n",
            "Kit Sinnett played the role of Soldier on Boat\n",
            "Sofiya Smirnova played the role of Evacuee\n",
            "John Snowden played the role of Detective\n",
            "Lorea Solabarrieta played the role of Secretary\n",
            "Dwight Sora played the role of Mob Lawyer\n",
            "Bruce Spielbauer played the role of High-Ranking Police Official\n",
            "January Stern played the role of Party Guest\n",
            "Robert Patrick Stern played the role of Extra\n",
            "Jordan Stone played the role of Businessman\n",
            "Robert Stone played the role of Dept. of Corrections Resident\n",
            "Richard Strobel played the role of Detective\n",
            "Albert Tang played the role of Ferry Passenger\n",
            "Jim Templar played the role of Joker's Henchman\n",
            "Chris D. Thomas played the role of Courtroom Spectator\n",
            "John Thurner played the role of Party Guest\n",
            "Tinnie Tong played the role of Ferry Passenger\n",
            "Tom Townsend played the role of Police Officer\n",
            "Chuen Tsou played the role of Lau's Henchman with TV\n",
            "John Turk played the role of Chechen's Bodyguard\n",
            "James Warfield played the role of Party Guest\n",
            "John Warman played the role of Detective\n",
            "Joel Wasserman played the role of Party Goer\n",
            "Mike Whyte played the role of Police Officer\n",
            "Chris Wilson played the role of Major Crime Unit Detective\n",
            "Lisa Wolf played the role of Businesswoman\n",
            "Debi Wollitzer played the role of Business Woman Evacuee\n",
            "Essa Zahir played the role of Prisoner on Boat\n",
            "Kevin Zaideman played the role of Party Staff\n",
            "------------------------------------\n",
            "Enter your input:  Is it hot in London?\n",
            "Assistant: \n",
            "The current temperature is 10.12 degrees Celcius.\n",
            "The weather condition is overcast clouds.\n",
            "------------------------------------\n",
            "Enter your input:  I wonder how's the weather in Mong Kok?\n",
            "Assistant: \n",
            "The current temperature is 31.24 degrees Celcius.\n",
            "The weather condition is clear sky.\n",
            "------------------------------------\n"
          ],
          "output_type":"stream"
        }
      ],
      "metadata":{
        
      }
    },
    {
      "cell_type":"markdown",
      "source":[
        "# End of Part 2\n",
        "\n",
        "## Thank you for attending the workshop"
      ],
      "metadata":{
        
      }
    }
  ],
  "metadata":{
    
  },
  "nbformat":4,
  "nbformat_minor":0
}